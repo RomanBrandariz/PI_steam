{
 "cells": [
  {
   "cell_type": "markdown",
   "id": "d8301d22",
   "metadata": {},
   "source": [
    "## Análisis Exploratorio de Datos (EDA)"
   ]
  },
  {
   "cell_type": "markdown",
   "id": "4d042ac0",
   "metadata": {},
   "source": [
    "En esta sección, nos sumergiremos en los conjuntos de datos limpios para realizar un análisis exploratorio detallado. El objetivo principal es entender la distribución de los datos, identificar patrones y extraer información valiosa que pueda ser crucial para el desarrollo de modelos de recomendación.También estaré haciendo uso de los archivos que fueron el input  inicial para justificar algunas acciones que apliqué en los notebooks ETL_user_reviews, ETL_user_items y ETL_steam_games."
   ]
  },
  {
   "cell_type": "markdown",
   "id": "70e40e6d",
   "metadata": {},
   "source": [
    "\n",
    "⚠️ **Asegúrese de instalar las siguientes bibliotecas antes de ejecutar el código**\n",
    "\n",
    "- pandas\n",
    "- matplotlib\n",
    "\n",
    "Puede instalar estas bibliotecas debe abrir una terminal o ventana de línea de comandos y ejecutar el siguiente comando:\n",
    "\n",
    "*`pip install pandas matplotlib`*"
   ]
  },
  {
   "cell_type": "markdown",
   "id": "ad3d6438",
   "metadata": {},
   "source": [
    "### Bibliotecas Esenciales"
   ]
  },
  {
   "cell_type": "code",
   "execution_count": null,
   "id": "fc9cb1f1",
   "metadata": {},
   "outputs": [],
   "source": [
    "# Importamos pandas para el análisis de datos tabulares\n",
    "import pandas as pd\n",
    "import matplotlib.pyplot as plt\n",
    "\n",
    "#Biblioteca para crear nubes de palabras en Python\n",
    "from wordcloud import WordCloud "
   ]
  },
  {
   "cell_type": "markdown",
   "id": "b4f5e833",
   "metadata": {},
   "source": [
    "### Carga de Datos"
   ]
  },
  {
   "cell_type": "code",
   "execution_count": null,
   "id": "46517561",
   "metadata": {},
   "outputs": [],
   "source": [
    "df_user_reviews = pd.read_csv('user_reviews_cleaned.csv')\n",
    "df_idiomas =  pd.read_csv('resumen_idiomas.csv')"
   ]
  },
  {
   "cell_type": "markdown",
   "id": "ff2b7f1c",
   "metadata": {},
   "source": [
    "#### Estadísticas Descriptivas"
   ]
  },
  {
   "cell_type": "code",
   "execution_count": null,
   "id": "a13ebc8d",
   "metadata": {},
   "outputs": [],
   "source": [
    "df_user_reviews.describe(include='all') "
   ]
  },
  {
   "cell_type": "markdown",
   "id": "4aa615b8",
   "metadata": {},
   "source": [
    "#### Variable categórica `recommend` en User Reviews"
   ]
  },
  {
   "cell_type": "markdown",
   "id": "683a2495",
   "metadata": {},
   "source": [
    "Esta columna contiene categorías que representan si algo es recomendado o no. Se estará utilizando para juegos MÁS recomendados por usuarios y desarrolladoras con juegos MENOS recomendados "
   ]
  },
  {
   "cell_type": "code",
   "execution_count": null,
   "id": "2a58e3d6",
   "metadata": {},
   "outputs": [],
   "source": [
    "# Calcula valores en la columna 'recommend' \n",
    "conteo_por_recomendaciones = df_user_reviews['recommend'].value_counts()\n",
    "porcentaje_recomendaciones = df_user_reviews['recommend'].value_counts(normalize=True) * 100\n",
    "#porcentaje_recomendaciones = porcentaje_recomendaciones.round(2).astype(str) + '%'\n",
    "\n",
    "# Crear un nuevo DataFrame con el conteo y porcentaje\n",
    "resumen_recomendaciones = pd.DataFrame({\n",
    "    'Conteo': conteo_por_recomendaciones,\n",
    "    'Porcentaje': porcentaje_recomendaciones.round(2).astype(str) + '%'\n",
    "})\n",
    "\n",
    "# Ordenar el DataFrame por el conteo de mayor a menor\n",
    "resumen_recomendaciones = resumen_recomendaciones.sort_values(by='Conteo', ascending=False)"
   ]
  },
  {
   "cell_type": "code",
   "execution_count": null,
   "id": "cac8976d",
   "metadata": {},
   "outputs": [],
   "source": [
    "import matplotlib.pyplot as plt\n",
    "\n",
    "# Crear un gráfico de barras para visualizar las recomendaciones\n",
    "plt.figure(figsize=(8, 6))\n",
    "bars = resumen_recomendaciones['Conteo'].plot(kind='bar', color=['green', 'red'], alpha=0.7)\n",
    "plt.title('Distribución de Recomendaciones en User Reviews')\n",
    "plt.xlabel('Recomendación')\n",
    "plt.ylabel('Cantidad de Registros')\n",
    "\n",
    "# Agregar etiquetas con el porcentaje a cada barra\n",
    "for bar, percentage in zip(bars.patches, resumen_recomendaciones['Porcentaje']):\n",
    "    height = bar.get_height()\n",
    "    plt.text(bar.get_x() + bar.get_width() / 2, height + 5, f'{percentage}%', ha='center', va='bottom')\n",
    "\n",
    "plt.xticks(rotation=0)\n",
    "plt.show()\n"
   ]
  },
  {
   "cell_type": "markdown",
   "id": "63dbac40",
   "metadata": {},
   "source": [
    "Se puede señalar que hay un desbalance considerable en las recomendaciones con el 87.59% marcadas como verdaderas y solo el 12.41% como falsas. Este desbalance puede afectar la capacidad del modelo para aprender patrones en las recomendaciones negativas debido a la falta de ejemplos.\n",
    "\n",
    "- Impacto en el Modelo: \n",
    " En situaciones de desbalance, algunos algoritmos pueden tener dificultades para aprender patrones en la clase minoritaria. \n",
    "- Relevancia de las Recomendaciones Positivas:\n",
    "Existe una alta proporción de recomendaciones positivas, se podría considerar a mayor profundidad para conocer realmente si esto refleja la naturaleza de las reseñas de usuarios en la plataforma ó si hay sesgos en la recopilación de datos."
   ]
  },
  {
   "cell_type": "markdown",
   "id": "ddc66790",
   "metadata": {},
   "source": [
    "#### Variable categórica `year` en User Reviews"
   ]
  },
  {
   "cell_type": "markdown",
   "id": "a4f34c8b",
   "metadata": {},
   "source": [
    "'year' representa el año en que los usuario realizaron la reseña."
   ]
  },
  {
   "cell_type": "code",
   "execution_count": null,
   "id": "f762a4b7",
   "metadata": {},
   "outputs": [],
   "source": [
    "import matplotlib.pyplot as plt\n",
    "\n",
    "# Crear subplots\n",
    "fig, axs = plt.subplots(1, 2, figsize=(15, 6))\n",
    "\n",
    "# Histograma de la distribución de años\n",
    "axs[0].hist(df_user_reviews['year'], bins=20, color='skyblue', edgecolor='black')\n",
    "axs[0].set_title('Distribución de Años en User Reviews')\n",
    "axs[0].set_xlabel('Año')\n",
    "axs[0].set_ylabel('Número de Reseñas')\n",
    "axs[0].grid(axis='y', linestyle='--', alpha=0.7)\n",
    "\n",
    "# Gráfico de líneas para mostrar tendencias temporales\n",
    "trends = df_user_reviews['year'].value_counts().sort_index()\n",
    "axs[1].plot(trends.index, trends.values, marker='o', linestyle='-', color='orange')\n",
    "axs[1].set_title('Tendencias Temporales en User Reviews')\n",
    "axs[1].set_xlabel('Año')\n",
    "axs[1].set_ylabel('Número de Reseñas')\n",
    "axs[1].grid(axis='y', linestyle='--', alpha=0.7)\n",
    "\n",
    "# Ajustar el diseño\n",
    "plt.tight_layout()\n",
    "\n",
    "# Mostrar los gráficos\n",
    "plt.show()"
   ]
  },
  {
   "cell_type": "markdown",
   "id": "1e5517c8",
   "metadata": {},
   "source": [
    "Los gráficos de distribución de años y tendencias temporales presentan una perspectiva completa sobre la evolución temporal de las reseñas de usuarios en la plataforma Steam. Aquí algunos puntos clave para destacar:\n",
    "\n",
    "- Histograma de Distribución de Años:\n",
    "La mayoría de las reseñas se concentran en los años más recientes, particularmente en 2014, 2015, y en menor medida, 2013.\n",
    "El año 2010 tiene la menor cantidad de reseñas, lo que sugiere un aumento significativo en la participación de usuarios con el tiempo y resalta la expansión y la creciente popularidad de la plataforma Steam en años más recientes.\n",
    "\n",
    "- Gráfico de Líneas de Tendencias Temporales:\n",
    "La tendencia temporal muestra un crecimiento constante en el número de reseñas a lo largo de los años.La línea alcanza su punto máximo en 2015, indicando un pico en la actividad de reseñas en ese año.\n",
    "\n",
    "La relación entre la distribución de años y la tendencia temporal confirma que, aunque hay un aumento general en las reseñas a lo largo del tiempo, hay años específicos que contribuyen de manera significativa a este crecimiento."
   ]
  },
  {
   "cell_type": "markdown",
   "id": "6a9489d9",
   "metadata": {},
   "source": [
    "Este análisis respalda la importancia de considerar la variable temporal al desarrollar un modelo de recomendación, ya que las preferencias de los usuarios pueden evolucionar con el tiempo.\n",
    "La concentración en años específicos puede indicar períodos de lanzamiento de juegos populares o cambios en la plataforma que influyen en la actividad de reseñas.\n",
    "En conjunto, estos hallazgos proporcionan una base sólida para el desarrollo del modelo de recomendación, subrayando la necesidad de adaptarse a las tendencias cambiantes a lo largo del tiempo para brindar recomendaciones precisas y relevantes a los usuarios de Steam."
   ]
  },
  {
   "cell_type": "markdown",
   "id": "58bf0d8a",
   "metadata": {},
   "source": [
    "#### Variable categórica `sentiment_analysis` en User Reviews"
   ]
  },
  {
   "cell_type": "markdown",
   "id": "784b6556",
   "metadata": {},
   "source": [
    "Esta columna es un `Feature Engineering`. Es una nueva característica que fue creada con el objetivo de mejorar el rendimiento del futuro modelo de Machine Learning a partir de la columna 'reviews' que estaba presente en el conjunto de datos inicial e incluía reseñas de juegos hechos por distintos usuarios.\n",
    "\n",
    "Antes de aplicar el análisis de sentimiento se evaluó la columna 'review' para obtener estadísticas sobre la cantidad de reseñas por lenguaje. Este análisis era crucial para determinar si el proceso de análisis de sentimientos se realizaría en todo el conjunto de datos ó si se aplicaría un filtro específico por idioma.\n",
    "\n"
   ]
  },
  {
   "cell_type": "code",
   "execution_count": null,
   "id": "20dbf4e8",
   "metadata": {},
   "outputs": [],
   "source": [
    "# Crear un diccionario con los datos del DataFrame\n",
    "df_idiomas_dict = dict(zip(df_idiomas['Idioma'], df_idiomas['Conteo']))\n",
    "\n",
    "# Colores personalizados\n",
    "colores = ['blue', 'green', 'red', 'purple', 'orange']\n",
    "\n",
    "# Crear la nube de palabras con colores personalizados\n",
    "wordcloud = WordCloud(width=800, height=400, background_color='white', colormap='viridis').generate_from_frequencies(df_idiomas_dict)\n",
    "\n",
    "# Mostrar la nube de palabras\n",
    "plt.figure(figsize=(10, 5))\n",
    "plt.imshow(wordcloud, interpolation='bilinear')\n",
    "plt.axis('off')\n",
    "plt.show()\n"
   ]
  },
  {
   "cell_type": "markdown",
   "id": "f7f348dc",
   "metadata": {},
   "source": [
    "Con los resultados obtenidos consideré realizar el análisis de sentimiento solo en los registros en inglés, ya que constituyen una parte significativa del conjunto de datos (más del 70%). En el ETL se borraron los reviews que no estuvieran en inglés, aquí hay algunas razones que justifican esta decisión:\n",
    "\n",
    "- Mayor Representatividad: \n",
    "Al centrarse en el inglés, que es la mayoría, se obtendrá un análisis de sentimiento más representativo de la mayoría de las reseñas en tu conjunto de datos. Esto puede ser especialmente útil ya que estamos interesados en comprender las opiniones predominantes en la audiencia principal.\n",
    "\n",
    "- Precisión del Modelo: \n",
    "Los modelos de análisis de sentimiento a menudo están entrenados y optimizados para un idioma específico, y el inglés suele ser uno de los idiomas mejor cubiertos. Esto podría mejorar la precisión de los resultados.\n",
    "\n",
    "- Eficiencia Computacional: \n",
    "Al reducir el conjunto de datos a solo los registros en inglés, puedes mejorar la eficiencia computacional, ya que el análisis se realizará en un conjunto de datos más pequeño."
   ]
  },
  {
   "cell_type": "markdown",
   "id": "f9c64e2b",
   "metadata": {},
   "source": [
    "**Análisis de sentimiento**\n",
    "\n",
    "Se optó por utilizar la biblioteca NLTK (Natural Language Toolkit) con el analizador de sentimientos de Vader, que proporciona una puntuación compuesta que puede ser utilizada para clasificar la polaridad de las reseñas en negativas (valor '0'), neutrales (valor '1') o positivas (valor '2'). A las reseñas escritas ausentes, se les asignó el valor de '1'.\n",
    "\n",
    "Justificación:\n",
    "\n",
    "- Facilidad de Implementación: \n",
    "NLTK es una biblioteca de procesamiento de lenguaje natural popular en Python, y el analizador de sentimientos de Vader es fácil de implementar. Requiere menos configuración en comparación con algunos enfoques más avanzados y es adecuado para aplicaciones prácticas.\n",
    "\n",
    "- Eficiencia Computacional: \n",
    "El analizador de sentimientos de Vader es eficiente computacionalmente, lo que significa que puede manejar grandes conjuntos de datos sin un costo computacional excesivo. Esto es crucial para aplicaciones en entornos empresariales donde la eficiencia de procesamiento es esencial.\n",
    "\n",
    "- Polaridad Compuesta: \n",
    "La puntuación compuesta proporcionada por el analizador de sentimientos de Vader ofrece una representación única y fácil de interpretar de la polaridad de la reseña. Esta puntuación compuesta se utiliza para asignar valores numéricos a las categorías de sentimientos según la escala propuesta.\n",
    "\n",
    "- Niveles Aceptables de Precisión: \n",
    "Aunque el analizador de sentimientos de Vader no es perfecto y puede tener limitaciones en ciertos contextos, es conocido por su rendimiento aceptable en una variedad de situaciones prácticas. La precisión puede variar según el tipo de texto y el dominio, pero en general, proporciona resultados razonables para tareas de análisis de sentimientos.\n",
    "\n",
    "Es importante destacar que la precisión de cualquier método de análisis de sentimientos puede depender en gran medida del contexto específico del conjunto de datos y del lenguaje utilizado en las reseñas. Si la precisión es una preocupación principal y el conjunto de datos lo permite se podría considerar para una segunda fase enfoques más avanzados, como modelos de aprendizaje profundo entrenados para análisis de sentimientos.\n",
    "\n",
    "En resumen, el enfoque seleccionado con el analizador de sentimientos de Vader en NLTK se elige por su equilibrio entre facilidad de implementación, eficiencia computacional y niveles aceptables de precisión para el propósito del análisis de sentimientos en este contexto específico."
   ]
  },
  {
   "cell_type": "code",
   "execution_count": null,
   "id": "8973ec5c",
   "metadata": {
    "scrolled": false
   },
   "outputs": [],
   "source": [
    "# Calcular el resumen de análisis de sentimientos\n",
    "\n",
    "sentiment_summary = df_user_reviews['sentiment_analysis'].value_counts()\n",
    "percentage_summary = (df_user_reviews['sentiment_analysis'].value_counts(normalize=True) * 100).round(2)\n",
    "\n",
    "# Crear un nuevo DataFrame con el resumen\n",
    "resumen_sentimientos = pd.DataFrame({\n",
    "    'Conteo': sentiment_summary,\n",
    "    'Porcentaje': percentage_summary.astype(str) + '%'\n",
    "})\n",
    "\n",
    "# Ordenar el DataFrame por el conteo de mayor a menor\n",
    "resumen_sentimientos = resumen_sentimientos.sort_index()\n",
    "\n",
    "# Visualizar el resumen\n",
    "fig, ax = plt.subplots(figsize=(8, 6))\n",
    "\n",
    "# Crear barras para el conteo\n",
    "ax.bar(resumen_sentimientos.index, resumen_sentimientos['Conteo'], color=['green', 'red', 'blue'])\n",
    "\n",
    "# Mostrar porcentajes encima de las barras\n",
    "for i, v in enumerate(resumen_sentimientos['Porcentaje']):\n",
    "    ax.text(i, resumen_sentimientos['Conteo'][i] + 500, f\"{v}\", ha='center', va='bottom')\n",
    "\n",
    "# Configurar el gráfico\n",
    "ax.set_title('Resumen de Análisis de Sentimientos')\n",
    "ax.set_xlabel('Sentimiento')\n",
    "ax.set_ylabel('Conteo')\n",
    "ax.set_xticks(resumen_sentimientos.index)\n",
    "ax.set_xticklabels(['Malo (0)', 'Neutral (1)', 'Positivo (2)'])\n",
    "\n",
    "# Mostrar el conteo de reviews en blanco\n",
    "conteo_reviews_en_blanco = (df_user_reviews['sentiment_analysis'].isnull()).sum()\n",
    "porcentaje_reviews_en_blanco = (conteo_reviews_en_blanco / len(df_user_reviews) * 100).round(2)\n",
    "ax.text(2.5, 3000, f\"Conteo de reviews en blanco: {conteo_reviews_en_blanco}  Porcentaje: {porcentaje_reviews_en_blanco}%\", ha='center', va='bottom')\n",
    "\n",
    "plt.show()\n"
   ]
  },
  {
   "cell_type": "markdown",
   "id": "ed8063b2",
   "metadata": {},
   "source": [
    "En el análisis de sentimientos de las reseñas en la columna 'sentiment_analysis', observamos lo siguiente:\n",
    "\n",
    "- Positivo (2):\n",
    "Representa la categoría dominante en las reseñas, abarcando el 70.83% del total. Esto indica que la gran mayoría de las reseñas tiene un sentimiento positivo.\n",
    "\n",
    "- Neutral (1):\n",
    "Aunque en menor proporción, un 10.53% de las reseñas se clasifican como neutrales. Esto podría indicar que algunos usuarios expresan opiniones sin un sesgo claramente positivo o negativo.\n",
    "\n",
    "- Negativo (0):\n",
    "La categoría de sentimiento negativo tiene una presencia más baja, constituyendo el 18.63%. Esto sugiere que, en general, la plataforma tiene una inclinación positiva en las reseñas de los usuarios.\n",
    "\n",
    "Consideraciones:\n",
    "La mayoría de los usuarios tiende a expresar opiniones positivas en sus reseñas.La proporción de reseñas neutrales es relativamente baja, lo que indica que la mayoría de los usuarios tiende a tener opiniones claramente positivas o negativas."
   ]
  }
 ],
 "metadata": {
  "kernelspec": {
   "display_name": "Python 3 (ipykernel)",
   "language": "python",
   "name": "python3"
  },
  "language_info": {
   "codemirror_mode": {
    "name": "ipython",
    "version": 3
   },
   "file_extension": ".py",
   "mimetype": "text/x-python",
   "name": "python",
   "nbconvert_exporter": "python",
   "pygments_lexer": "ipython3",
   "version": "3.12.1"
  }
 },
 "nbformat": 4,
 "nbformat_minor": 5
}
